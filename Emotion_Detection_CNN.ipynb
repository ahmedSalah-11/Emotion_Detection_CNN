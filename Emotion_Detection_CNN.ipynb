{
  "nbformat": 4,
  "nbformat_minor": 0,
  "metadata": {
    "colab": {
      "name": "Emotion_Detection_CNN.ipynb",
      "provenance": [],
      "toc_visible": true,
      "authorship_tag": "ABX9TyM+Mw6VnF/oqPEhhwlW3iOe"
    },
    "kernelspec": {
      "name": "python3",
      "display_name": "Python 3"
    },
    "language_info": {
      "name": "python"
    },
    "accelerator": "GPU"
  },
  "cells": [
    {
      "cell_type": "code",
      "metadata": {
        "id": "ZIQ2c2iZPD0X"
      },
      "source": [
        "import keras\n",
        "from keras.preprocessing.image import ImageDataGenerator\n",
        "from keras.models import Sequential\n",
        "from keras.layers import Dense,Dropout,Activation,Flatten,BatchNormalization\n",
        "from keras.layers import Conv2D,MaxPooling2D\n",
        "from keras.optimizers import RMSprop,SGD,Adam\n",
        "from keras.callbacks import ModelCheckpoint, EarlyStopping, ReduceLROnPlateau\n",
        "import os"
      ],
      "execution_count": 11,
      "outputs": []
    },
    {
      "cell_type": "code",
      "metadata": {
        "id": "14SokbybPPjM"
      },
      "source": [
        "train_data_dir='/content/sample_data/train'\n",
        "validation_data_dir='/content/sample_data/validation'"
      ],
      "execution_count": 12,
      "outputs": []
    },
    {
      "cell_type": "code",
      "metadata": {
        "id": "PuNvFpvFW2Oa"
      },
      "source": [
        "num_classes=5\n",
        "img_rows,img_cols=48,48\n",
        "batch_size=32"
      ],
      "execution_count": 13,
      "outputs": []
    },
    {
      "cell_type": "markdown",
      "metadata": {
        "id": "7rEfwPW-RyAh"
      },
      "source": [
        "### Here we will use Image Augmentation techniques on our dataset to artificially expand it's size by creating modified versions from the existing images using ImageDataGenerator class"
      ]
    },
    {
      "cell_type": "code",
      "metadata": {
        "id": "6-EGXMlBW2pH"
      },
      "source": [
        "train_datagen = ImageDataGenerator(\n",
        "    rescale=1./255,\n",
        "    rotation_range=30,\n",
        "    shear_range=0.3,\n",
        "    zoom_range=0.3,\n",
        "    width_shift_range=0.4,\n",
        "    height_shift_range=0.4,\n",
        "    horizontal_flip=True,\n",
        "    fill_mode='nearest')\n",
        "validation_datagen = ImageDataGenerator(rescale=1./255)"
      ],
      "execution_count": 14,
      "outputs": []
    },
    {
      "cell_type": "markdown",
      "metadata": {
        "id": "1mxLSYR_W7Ml"
      },
      "source": [
        "### load the dataset from the directory which is augmented and stored in the train_generator and validation_generator variables"
      ]
    },
    {
      "cell_type": "code",
      "metadata": {
        "colab": {
          "base_uri": "https://localhost:8080/"
        },
        "id": "uBq4ftD7W8XP",
        "outputId": "6f571408-9e65-42db-a862-f0918f06bd5f"
      },
      "source": [
        "train_generator = train_datagen.flow_from_directory(\n",
        " train_data_dir,\n",
        " color_mode='grayscale',\n",
        " target_size=(img_rows,img_cols),\n",
        " batch_size=batch_size,\n",
        " class_mode='categorical',\n",
        " shuffle=True)"
      ],
      "execution_count": 15,
      "outputs": [
        {
          "output_type": "stream",
          "text": [
            "Found 24256 images belonging to 5 classes.\n"
          ],
          "name": "stdout"
        }
      ]
    },
    {
      "cell_type": "code",
      "metadata": {
        "colab": {
          "base_uri": "https://localhost:8080/"
        },
        "id": "YUJOp6VsXH-i",
        "outputId": "3235af44-116e-4b5f-f127-e74ca1688cde"
      },
      "source": [
        "validation_generator = validation_datagen.flow_from_directory(\n",
        " validation_data_dir,\n",
        " color_mode='grayscale',\n",
        " target_size=(img_rows,img_cols),\n",
        " batch_size=batch_size,\n",
        " class_mode='categorical',\n",
        " shuffle=True)"
      ],
      "execution_count": 16,
      "outputs": [
        {
          "output_type": "stream",
          "text": [
            "Found 3006 images belonging to 5 classes.\n"
          ],
          "name": "stdout"
        }
      ]
    },
    {
      "cell_type": "markdown",
      "metadata": {
        "id": "f-htp1xzXLVS"
      },
      "source": [
        "### Building the model (CNN Network)"
      ]
    },
    {
      "cell_type": "code",
      "metadata": {
        "id": "Xv__WL2gXKX0"
      },
      "source": [
        "model = Sequential()\n",
        "#Block-1\n",
        "model.add(Conv2D(32,(3,3),padding='same',kernel_initializer='he_normal',\n",
        "                 input_shape=(img_rows,img_cols,1)))\n",
        "model.add(Activation('elu'))\n",
        "model.add(BatchNormalization())\n",
        "model.add(Conv2D(32,(3,3),padding='same',kernel_initializer='he_normal',\n",
        "                 input_shape=(img_rows,img_cols,1)))\n",
        "model.add(Activation('elu'))\n",
        "model.add(BatchNormalization())\n",
        "model.add(MaxPooling2D(pool_size=(2,2)))\n",
        "model.add(Dropout(0.2))\n",
        "#Block-2\n",
        "model.add(Conv2D(64,(3,3),padding='same',kernel_initializer='he_normal'))\n",
        "model.add(Activation('elu'))\n",
        "model.add(BatchNormalization())\n",
        "model.add(Conv2D(64,(3,3),padding='same',kernel_initializer='he_normal'))\n",
        "model.add(Activation('elu'))\n",
        "model.add(BatchNormalization())\n",
        "model.add(MaxPooling2D(pool_size=(2,2)))\n",
        "model.add(Dropout(0.2))\n",
        "#Block-3\n",
        "model.add(Conv2D(128,(3,3),padding='same',kernel_initializer='he_normal'))\n",
        "model.add(Activation('elu'))\n",
        "model.add(BatchNormalization())\n",
        "model.add(Conv2D(128,(3,3),padding='same',kernel_initializer='he_normal'))\n",
        "model.add(Activation('elu'))\n",
        "model.add(BatchNormalization())\n",
        "model.add(MaxPooling2D(pool_size=(2,2)))\n",
        "model.add(Dropout(0.2))\n",
        "#Block-4\n",
        "model.add(Conv2D(256,(3,3),padding='same',kernel_initializer='he_normal'))\n",
        "model.add(Activation('elu'))\n",
        "model.add(BatchNormalization())\n",
        "model.add(Conv2D(256,(3,3),padding='same',kernel_initializer='he_normal'))\n",
        "model.add(Activation('elu'))\n",
        "model.add(BatchNormalization())\n",
        "model.add(MaxPooling2D(pool_size=(2,2)))\n",
        "model.add(Dropout(0.2))\n",
        "#Block-5\n",
        "model.add(Flatten())\n",
        "model.add(Dense(64,kernel_initializer='he_normal'))\n",
        "model.add(Activation('elu'))\n",
        "model.add(BatchNormalization())\n",
        "model.add(Dropout(0.5))\n",
        "#Block-6\n",
        "model.add(Dense(64,kernel_initializer='he_normal'))\n",
        "model.add(Activation('elu'))\n",
        "model.add(BatchNormalization())\n",
        "model.add(Dropout(0.5))\n",
        "#Block-7\n",
        "model.add(Dense(num_classes,kernel_initializer='he_normal'))\n",
        "model.add(Activation('softmax'))"
      ],
      "execution_count": 17,
      "outputs": []
    },
    {
      "cell_type": "code",
      "metadata": {
        "colab": {
          "base_uri": "https://localhost:8080/"
        },
        "id": "EeO4Eb6YSd9C",
        "outputId": "c352c002-79d9-4552-af61-09165a804c42"
      },
      "source": [
        "model.summary()"
      ],
      "execution_count": 29,
      "outputs": [
        {
          "output_type": "stream",
          "text": [
            "Model: \"sequential\"\n",
            "_________________________________________________________________\n",
            "Layer (type)                 Output Shape              Param #   \n",
            "=================================================================\n",
            "conv2d (Conv2D)              (None, 48, 48, 32)        320       \n",
            "_________________________________________________________________\n",
            "activation (Activation)      (None, 48, 48, 32)        0         \n",
            "_________________________________________________________________\n",
            "batch_normalization (BatchNo (None, 48, 48, 32)        128       \n",
            "_________________________________________________________________\n",
            "conv2d_1 (Conv2D)            (None, 48, 48, 32)        9248      \n",
            "_________________________________________________________________\n",
            "activation_1 (Activation)    (None, 48, 48, 32)        0         \n",
            "_________________________________________________________________\n",
            "batch_normalization_1 (Batch (None, 48, 48, 32)        128       \n",
            "_________________________________________________________________\n",
            "max_pooling2d (MaxPooling2D) (None, 24, 24, 32)        0         \n",
            "_________________________________________________________________\n",
            "dropout (Dropout)            (None, 24, 24, 32)        0         \n",
            "_________________________________________________________________\n",
            "conv2d_2 (Conv2D)            (None, 24, 24, 64)        18496     \n",
            "_________________________________________________________________\n",
            "activation_2 (Activation)    (None, 24, 24, 64)        0         \n",
            "_________________________________________________________________\n",
            "batch_normalization_2 (Batch (None, 24, 24, 64)        256       \n",
            "_________________________________________________________________\n",
            "conv2d_3 (Conv2D)            (None, 24, 24, 64)        36928     \n",
            "_________________________________________________________________\n",
            "activation_3 (Activation)    (None, 24, 24, 64)        0         \n",
            "_________________________________________________________________\n",
            "batch_normalization_3 (Batch (None, 24, 24, 64)        256       \n",
            "_________________________________________________________________\n",
            "max_pooling2d_1 (MaxPooling2 (None, 12, 12, 64)        0         \n",
            "_________________________________________________________________\n",
            "dropout_1 (Dropout)          (None, 12, 12, 64)        0         \n",
            "_________________________________________________________________\n",
            "conv2d_4 (Conv2D)            (None, 12, 12, 128)       73856     \n",
            "_________________________________________________________________\n",
            "activation_4 (Activation)    (None, 12, 12, 128)       0         \n",
            "_________________________________________________________________\n",
            "batch_normalization_4 (Batch (None, 12, 12, 128)       512       \n",
            "_________________________________________________________________\n",
            "conv2d_5 (Conv2D)            (None, 12, 12, 128)       147584    \n",
            "_________________________________________________________________\n",
            "activation_5 (Activation)    (None, 12, 12, 128)       0         \n",
            "_________________________________________________________________\n",
            "batch_normalization_5 (Batch (None, 12, 12, 128)       512       \n",
            "_________________________________________________________________\n",
            "max_pooling2d_2 (MaxPooling2 (None, 6, 6, 128)         0         \n",
            "_________________________________________________________________\n",
            "dropout_2 (Dropout)          (None, 6, 6, 128)         0         \n",
            "_________________________________________________________________\n",
            "conv2d_6 (Conv2D)            (None, 6, 6, 256)         295168    \n",
            "_________________________________________________________________\n",
            "activation_6 (Activation)    (None, 6, 6, 256)         0         \n",
            "_________________________________________________________________\n",
            "batch_normalization_6 (Batch (None, 6, 6, 256)         1024      \n",
            "_________________________________________________________________\n",
            "conv2d_7 (Conv2D)            (None, 6, 6, 256)         590080    \n",
            "_________________________________________________________________\n",
            "activation_7 (Activation)    (None, 6, 6, 256)         0         \n",
            "_________________________________________________________________\n",
            "batch_normalization_7 (Batch (None, 6, 6, 256)         1024      \n",
            "_________________________________________________________________\n",
            "max_pooling2d_3 (MaxPooling2 (None, 3, 3, 256)         0         \n",
            "_________________________________________________________________\n",
            "dropout_3 (Dropout)          (None, 3, 3, 256)         0         \n",
            "_________________________________________________________________\n",
            "flatten (Flatten)            (None, 2304)              0         \n",
            "_________________________________________________________________\n",
            "dense (Dense)                (None, 64)                147520    \n",
            "_________________________________________________________________\n",
            "activation_8 (Activation)    (None, 64)                0         \n",
            "_________________________________________________________________\n",
            "batch_normalization_8 (Batch (None, 64)                256       \n",
            "_________________________________________________________________\n",
            "dropout_4 (Dropout)          (None, 64)                0         \n",
            "_________________________________________________________________\n",
            "dense_1 (Dense)              (None, 64)                4160      \n",
            "_________________________________________________________________\n",
            "activation_9 (Activation)    (None, 64)                0         \n",
            "_________________________________________________________________\n",
            "batch_normalization_9 (Batch (None, 64)                256       \n",
            "_________________________________________________________________\n",
            "dropout_5 (Dropout)          (None, 64)                0         \n",
            "_________________________________________________________________\n",
            "dense_2 (Dense)              (None, 5)                 325       \n",
            "_________________________________________________________________\n",
            "activation_10 (Activation)   (None, 5)                 0         \n",
            "=================================================================\n",
            "Total params: 1,328,037\n",
            "Trainable params: 1,325,861\n",
            "Non-trainable params: 2,176\n",
            "_________________________________________________________________\n"
          ],
          "name": "stdout"
        }
      ]
    },
    {
      "cell_type": "code",
      "metadata": {
        "id": "m7TptAANXyj_"
      },
      "source": [
        "checkpoint = ModelCheckpoint('EmotionDetectionModel.h5',\n",
        "                             monitor='val_loss',\n",
        "                             mode='min',\n",
        "                             save_best_only=True,\n",
        "                             verbose=1)\n",
        "earlystop = EarlyStopping(monitor='val_loss',\n",
        "                          min_delta=0,\n",
        "                          patience=3,\n",
        "                          verbose=1,\n",
        "                          restore_best_weights=True\n",
        "                          )\n",
        "reduce_lr = ReduceLROnPlateau(monitor='val_loss',\n",
        "                              factor=0.2,\n",
        "                              patience=3,\n",
        "                              verbose=1,\n",
        "                              min_delta=0.0001)\n",
        "callbacks = [earlystop,checkpoint,reduce_lr]"
      ],
      "execution_count": 18,
      "outputs": []
    },
    {
      "cell_type": "code",
      "metadata": {
        "id": "JlbLCj3hX1E5",
        "colab": {
          "base_uri": "https://localhost:8080/"
        },
        "outputId": "ee04fc8a-f7a0-467b-b835-5b93b14f8e0e"
      },
      "source": [
        "\n",
        "model.compile(loss='categorical_crossentropy',\n",
        " optimizer = Adam(lr=0.001),\n",
        " metrics=['accuracy'])\n",
        "nb_train_samples = 24176\n",
        "nb_validation_samples = 3006\n",
        "epochs=25\n",
        "history=model.fit_generator(\n",
        " train_generator,\n",
        " steps_per_epoch=nb_train_samples//batch_size,\n",
        " epochs=epochs,\n",
        " callbacks=callbacks,\n",
        " validation_data=validation_generator,\n",
        " validation_steps=nb_validation_samples//batch_size)"
      ],
      "execution_count": 19,
      "outputs": [
        {
          "output_type": "stream",
          "text": [
            "/usr/local/lib/python3.7/dist-packages/tensorflow/python/keras/engine/training.py:1844: UserWarning: `Model.fit_generator` is deprecated and will be removed in a future version. Please use `Model.fit`, which supports generators.\n",
            "  warnings.warn('`Model.fit_generator` is deprecated and '\n"
          ],
          "name": "stderr"
        },
        {
          "output_type": "stream",
          "text": [
            "Epoch 1/25\n",
            "755/755 [==============================] - 56s 29ms/step - loss: 2.1195 - accuracy: 0.2276 - val_loss: 1.5719 - val_accuracy: 0.2765\n",
            "\n",
            "Epoch 00001: val_loss improved from inf to 1.57194, saving model to EmotionDetectionModel.h5\n",
            "Epoch 2/25\n",
            "755/755 [==============================] - 22s 29ms/step - loss: 1.5969 - accuracy: 0.2689 - val_loss: 1.5403 - val_accuracy: 0.2947\n",
            "\n",
            "Epoch 00002: val_loss improved from 1.57194 to 1.54035, saving model to EmotionDetectionModel.h5\n",
            "Epoch 3/25\n",
            "755/755 [==============================] - 22s 29ms/step - loss: 1.5503 - accuracy: 0.3038 - val_loss: 1.5479 - val_accuracy: 0.3024\n",
            "\n",
            "Epoch 00003: val_loss did not improve from 1.54035\n",
            "Epoch 4/25\n",
            "755/755 [==============================] - 21s 28ms/step - loss: 1.5212 - accuracy: 0.3239 - val_loss: 1.5006 - val_accuracy: 0.3649\n",
            "\n",
            "Epoch 00004: val_loss improved from 1.54035 to 1.50064, saving model to EmotionDetectionModel.h5\n",
            "Epoch 5/25\n",
            "755/755 [==============================] - 22s 29ms/step - loss: 1.4762 - accuracy: 0.3486 - val_loss: 1.6982 - val_accuracy: 0.3978\n",
            "\n",
            "Epoch 00005: val_loss did not improve from 1.50064\n",
            "Epoch 6/25\n",
            "755/755 [==============================] - 22s 29ms/step - loss: 1.3807 - accuracy: 0.4123 - val_loss: 1.4032 - val_accuracy: 0.4644\n",
            "\n",
            "Epoch 00006: val_loss improved from 1.50064 to 1.40321, saving model to EmotionDetectionModel.h5\n",
            "Epoch 7/25\n",
            "755/755 [==============================] - 22s 29ms/step - loss: 1.2857 - accuracy: 0.4639 - val_loss: 1.3122 - val_accuracy: 0.5037\n",
            "\n",
            "Epoch 00007: val_loss improved from 1.40321 to 1.31219, saving model to EmotionDetectionModel.h5\n",
            "Epoch 8/25\n",
            "755/755 [==============================] - 21s 28ms/step - loss: 1.2279 - accuracy: 0.5004 - val_loss: 1.3592 - val_accuracy: 0.5269\n",
            "\n",
            "Epoch 00008: val_loss did not improve from 1.31219\n",
            "Epoch 9/25\n",
            "755/755 [==============================] - 22s 29ms/step - loss: 1.1903 - accuracy: 0.5096 - val_loss: 1.2820 - val_accuracy: 0.5460\n",
            "\n",
            "Epoch 00009: val_loss improved from 1.31219 to 1.28202, saving model to EmotionDetectionModel.h5\n",
            "Epoch 10/25\n",
            "755/755 [==============================] - 21s 28ms/step - loss: 1.1545 - accuracy: 0.5332 - val_loss: 1.2780 - val_accuracy: 0.5504\n",
            "\n",
            "Epoch 00010: val_loss improved from 1.28202 to 1.27804, saving model to EmotionDetectionModel.h5\n",
            "Epoch 11/25\n",
            "755/755 [==============================] - 22s 28ms/step - loss: 1.1234 - accuracy: 0.5524 - val_loss: 1.3658 - val_accuracy: 0.5524\n",
            "\n",
            "Epoch 00011: val_loss did not improve from 1.27804\n",
            "Epoch 12/25\n",
            "755/755 [==============================] - 22s 29ms/step - loss: 1.1183 - accuracy: 0.5500 - val_loss: 1.1998 - val_accuracy: 0.5756\n",
            "\n",
            "Epoch 00012: val_loss improved from 1.27804 to 1.19983, saving model to EmotionDetectionModel.h5\n",
            "Epoch 13/25\n",
            "755/755 [==============================] - 22s 29ms/step - loss: 1.0966 - accuracy: 0.5597 - val_loss: 1.2346 - val_accuracy: 0.5793\n",
            "\n",
            "Epoch 00013: val_loss did not improve from 1.19983\n",
            "Epoch 14/25\n",
            "755/755 [==============================] - 21s 28ms/step - loss: 1.0779 - accuracy: 0.5732 - val_loss: 1.3240 - val_accuracy: 0.5733\n",
            "\n",
            "Epoch 00014: val_loss did not improve from 1.19983\n",
            "Epoch 15/25\n",
            "755/755 [==============================] - 22s 29ms/step - loss: 1.0759 - accuracy: 0.5749 - val_loss: 1.2419 - val_accuracy: 0.5837\n",
            "Restoring model weights from the end of the best epoch.\n",
            "\n",
            "Epoch 00015: val_loss did not improve from 1.19983\n",
            "\n",
            "Epoch 00015: ReduceLROnPlateau reducing learning rate to 0.00020000000949949026.\n",
            "Epoch 00015: early stopping\n"
          ],
          "name": "stdout"
        }
      ]
    },
    {
      "cell_type": "markdown",
      "metadata": {
        "id": "igxSLRJ4tXVY"
      },
      "source": [
        "### Now after we have the engine we will try to make the driver code for that engine to detect emotions from web cam"
      ]
    },
    {
      "cell_type": "code",
      "metadata": {
        "id": "WpTettXcrr-t"
      },
      "source": [
        "from keras.models import load_model\n",
        "from keras.preprocessing.image import img_to_array\n",
        "from keras.preprocessing import image\n",
        "import cv2\n",
        "import numpy as np\n"
      ],
      "execution_count": null,
      "outputs": []
    },
    {
      "cell_type": "code",
      "metadata": {
        "id": "BRNPtucbttTX"
      },
      "source": [
        "face_classifier=cv2.CascadeClassifier('/haarcascade_frontalface_default.xml')\n",
        "classifier = load_model('/content/EmotionDetectionModel.h5')"
      ],
      "execution_count": 20,
      "outputs": []
    },
    {
      "cell_type": "code",
      "metadata": {
        "id": "kQS4wF_9NKUg"
      },
      "source": [
        "class_labels=['Angry','Happy','Neutral','Sad','Surprise']\n",
        "cap=cv2.VideoCapture(0)\n",
        "while True:\n",
        "    ret,frame=cap.read()\n",
        "    labels=[]\n",
        "    gray=cv2.cvtColor(frame,cv2.COLOR_BGR2GRAY)\n",
        "    faces=face_classifier.detectMultiScale(gray,1.3,5)\n",
        "\n",
        "    for (x,y,w,h) in faces:\n",
        "        cv2.rectangle(frame,(x,y),(x+w,y+h),(255,0,0),2)\n",
        "        roi_gray=gray[y:y+h,x:x+w]\n",
        "        roi_gray=cv2.resize(roi_gray,(48,48),interpolation=cv2.INTER_AREA)\n",
        "\n",
        "        if np.sum([roi_gray])!=0:\n",
        "            roi=roi_gray.astype('float')/255.0\n",
        "            roi=img_to_array(roi)\n",
        "            roi=np.expand_dims(roi,axis=0)\n",
        "\n",
        "            preds=classifier.predict(roi)[0]\n",
        "            label=class_labels[preds.argmax()]\n",
        "            label_position=(x,y)\n",
        "            cv2.putText(frame,label,label_position,cv2.FONT_HERSHEY_SIMPLEX,2,(0,255,0),3)\n",
        "        else:\n",
        "            cv2.putText(frame,'No Face Found',(20,20),cv2.FONT_HERSHEY_SIMPLEX,2,(0,255,0),3)\n",
        "    \n",
        "    cv2.imshow('Emotion Detector',frame)\n",
        "    if cv2.waitKey(1) & 0xFF == ord('q'):\n",
        "        break\n",
        "cap.release()\n",
        "cv2.destroyAllWindows()"
      ],
      "execution_count": null,
      "outputs": []
    },
    {
      "cell_type": "code",
      "metadata": {
        "id": "UHtJ8sEL3SNi"
      },
      "source": [
        ""
      ],
      "execution_count": null,
      "outputs": []
    }
  ]
}